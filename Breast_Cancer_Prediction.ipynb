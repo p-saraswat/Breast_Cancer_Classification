{
 "cells": [
  {
   "cell_type": "markdown",
   "id": "77d3d51a",
   "metadata": {},
   "source": [
    "# Breast Cancer Prediction \n",
    "\n",
    "### Wisconsin Diagnostic Breast Cancer Dataset is used for the problem, and basic supervised learning algorithms are used for prediction. \n"
   ]
  },
  {
   "cell_type": "markdown",
   "id": "cdf05017",
   "metadata": {},
   "source": [
    "In this cell the dataset is loaded using numpy and pandas. First the pandas import the dataframe and then data is \n",
    "converted to nd array, as many operations in scikit learn are compatible with nd array.\n",
    "\n",
    "The data is then further split into training, testing and validation using train_test_split function of scikit learn\n",
    "The split between the training testing and validation is random and is in the percent division 60%, 20%, and 20%  \n",
    "respectively."
   ]
  },
  {
   "cell_type": "code",
   "execution_count": 19,
   "id": "21e5263b",
   "metadata": {
    "scrolled": false
   },
   "outputs": [
    {
     "name": "stdout",
     "output_type": "stream",
     "text": [
      "           id diagnosis  M radius  M texture  M perimeter  M area  \\\n",
      "0      842302         M     17.99      10.38       122.80  1001.0   \n",
      "1      842517         M     20.57      17.77       132.90  1326.0   \n",
      "2    84300903         M     19.69      21.25       130.00  1203.0   \n",
      "3    84348301         M     11.42      20.38        77.58   386.1   \n",
      "4    84358402         M     20.29      14.34       135.10  1297.0   \n",
      "..        ...       ...       ...        ...          ...     ...   \n",
      "564    926424         M     21.56      22.39       142.00  1479.0   \n",
      "565    926682         M     20.13      28.25       131.20  1261.0   \n",
      "566    926954         M     16.60      28.08       108.30   858.1   \n",
      "567    927241         M     20.60      29.33       140.10  1265.0   \n",
      "568     92751         B      7.76      24.54        47.92   181.0   \n",
      "\n",
      "      M smoothness  M compactness  M concavity  M concave points  ...  \\\n",
      "0          0.11840        0.27760      0.30010           0.14710  ...   \n",
      "1          0.08474        0.07864      0.08690           0.07017  ...   \n",
      "2          0.10960        0.15990      0.19740           0.12790  ...   \n",
      "3          0.14250        0.28390      0.24140           0.10520  ...   \n",
      "4          0.10030        0.13280      0.19800           0.10430  ...   \n",
      "..             ...            ...          ...               ...  ...   \n",
      "564        0.11100        0.11590      0.24390           0.13890  ...   \n",
      "565        0.09780        0.10340      0.14400           0.09791  ...   \n",
      "566        0.08455        0.10230      0.09251           0.05302  ...   \n",
      "567        0.11780        0.27700      0.35140           0.15200  ...   \n",
      "568        0.05263        0.04362      0.00000           0.00000  ...   \n",
      "\n",
      "     W radius  W texture  W perimeter  W area  W smoothness  W compactness  \\\n",
      "0      25.380      17.33       184.60  2019.0       0.16220        0.66560   \n",
      "1      24.990      23.41       158.80  1956.0       0.12380        0.18660   \n",
      "2      23.570      25.53       152.50  1709.0       0.14440        0.42450   \n",
      "3      14.910      26.50        98.87   567.7       0.20980        0.86630   \n",
      "4      22.540      16.67       152.20  1575.0       0.13740        0.20500   \n",
      "..        ...        ...          ...     ...           ...            ...   \n",
      "564    25.450      26.40       166.10  2027.0       0.14100        0.21130   \n",
      "565    23.690      38.25       155.00  1731.0       0.11660        0.19220   \n",
      "566    18.980      34.12       126.70  1124.0       0.11390        0.30940   \n",
      "567    25.740      39.42       184.60  1821.0       0.16500        0.86810   \n",
      "568     9.456      30.37        59.16   268.6       0.08996        0.06444   \n",
      "\n",
      "     W concavity  W concave points  W symmetry  W fractal  \n",
      "0         0.7119            0.2654      0.4601    0.11890  \n",
      "1         0.2416            0.1860      0.2750    0.08902  \n",
      "2         0.4504            0.2430      0.3613    0.08758  \n",
      "3         0.6869            0.2575      0.6638    0.17300  \n",
      "4         0.4000            0.1625      0.2364    0.07678  \n",
      "..           ...               ...         ...        ...  \n",
      "564       0.4107            0.2216      0.2060    0.07115  \n",
      "565       0.3215            0.1628      0.2572    0.06637  \n",
      "566       0.3403            0.1418      0.2218    0.07820  \n",
      "567       0.9387            0.2650      0.4087    0.12400  \n",
      "568       0.0000            0.0000      0.2871    0.07039  \n",
      "\n",
      "[569 rows x 32 columns]\n",
      "(455, 30)\n",
      "(364, 30)\n",
      "(91, 30)\n",
      "(114, 30)\n"
     ]
    }
   ],
   "source": [
    "#Breast cancer classification problem\n",
    "\n",
    "\n",
    "\n",
    "%matplotlib inline\n",
    "# import necessary libraries and specify that graphs should be plotted inline.\n",
    "\n",
    "import numpy as np\n",
    "import pandas as pd\n",
    "import matplotlib.pyplot as plt\n",
    "from matplotlib.colors import ListedColormap\n",
    "from sklearn import neighbors, datasets, preprocessing, metrics, tree, linear_model\n",
    "from mpl_toolkits.mplot3d import Axes3D\n",
    "from sklearn.preprocessing import StandardScaler\n",
    "from sklearn.model_selection import cross_val_score, train_test_split\n",
    "import math as m\n",
    "import warnings\n",
    "warnings.filterwarnings('ignore')\n",
    "\n",
    "# import  data from the file wdbc.data and give proper headers\n",
    "\n",
    "\n",
    "df = pd.read_csv('wdbc.data', delimiter = ',', names = ['id', 'diagnosis', 'M radius', 'M texture', 'M perimeter', \n",
    "                                                        'M area', ' M smoothness', 'M compactness', 'M concavity', \n",
    "                                                        'M concave points', 'M symmetry', 'M fractal',\n",
    "                                                      'SE radius', 'SE texture', 'SE perimeter', 'SE area',\n",
    "                                                        'SE smoothness', 'SE compactness', 'SE concavity', \n",
    "                                                        'SE concave points', 'SE symmetry',  'SE fractal',\n",
    "                                                       'W radius', 'W texture', 'W perimeter', 'W area',\n",
    "                                                        'W smoothness', 'W compactness', 'W concavity',\n",
    "                                                        'W concave points', 'W symmetry', 'W fractal'])\n",
    "                     \n",
    "print(df)\n",
    "\n",
    "df_array = df.to_numpy()\n",
    "training_cut = m.floor(df.shape[0] * 0.65)\n",
    "validation_cut = training_cut + m.floor(df.shape[0] * 0.15)\n",
    "\n",
    "df_raw_X = df_array[:, 2:].copy()\n",
    "df_raw_Y = df_array[:, 1:2].ravel().copy()\n",
    "\n",
    "df_training_X, df_test_X, df_training_Y, df_test_Y = train_test_split(df_raw_X, df_raw_Y, test_size=0.20,\n",
    "                                                                      random_state = 4)\n",
    "\n",
    "df_training_n_X, df_validation_X, df_training_n_Y, df_validation_Y = train_test_split(df_training_X,\n",
    "                                                                                      df_training_Y, test_size=0.20,\n",
    "                                                                                      random_state = 4)\n",
    "\n",
    "\n",
    "print(df_training_X.shape)\n",
    "print(df_training_n_X.shape)\n",
    "print(df_validation_X.shape)\n",
    "print(df_test_X.shape)\n"
   ]
  },
  {
   "cell_type": "markdown",
   "id": "db55dca5",
   "metadata": {},
   "source": [
    "# Benchmarking \n",
    "This benchmarking is usually based on the majority rule but here the majority is of B class, so if we calculate accuracy and F-score we will get 0, so a better benchmark would be when our model predicts all cases as 'M'. In the given scenario we want to predict the 'M' class with the least error, because the cost of predicting a false 'B' is higher than a false 'M', so keeping the focus on 'M' class, we want to maximize the recall of 'M'."
   ]
  },
  {
   "cell_type": "code",
   "execution_count": 2,
   "id": "feb4a673",
   "metadata": {},
   "outputs": [
    {
     "name": "stdout",
     "output_type": "stream",
     "text": [
      "[['B' 277]\n",
      " ['M' 178]]\n",
      "Accuracy:  0.2982456140350877\n",
      "F score:  0.45945945945945943\n",
      "Recall score:  1.0\n",
      "Precision score:  0.2982456140350877\n"
     ]
    }
   ],
   "source": [
    "unique, counts = np.unique(df_training_Y, return_counts=True)\n",
    "\n",
    "result = np.column_stack((unique, counts)) \n",
    "print(result)\n",
    "\n",
    "benchmark =  np.full(df_test_Y.shape,  'M')\n",
    "\n",
    "print(\"Accuracy: \",  metrics.accuracy_score(df_test_Y, benchmark))\n",
    "print(\"F score: \", metrics.f1_score(df_test_Y, benchmark, pos_label = 'M'))\n",
    "print(\"Recall score: \", metrics.recall_score(df_test_Y, benchmark, pos_label = 'M'))\n",
    "print(\"Precision score: \", metrics.precision_score(df_test_Y, benchmark, pos_label = 'M'))\n",
    "\n",
    "\n"
   ]
  },
  {
   "cell_type": "markdown",
   "id": "087c8aaf",
   "metadata": {},
   "source": [
    "# Measurement Selection"
   ]
  },
  {
   "cell_type": "code",
   "execution_count": null,
   "id": "7e3033b9",
   "metadata": {},
   "outputs": [],
   "source": [
    "There are multiple parameters to decide for the best model, such as F score, accuracy, Recall and prediciton.\n",
    "In this context, or in this classification problem, the more costly classification would be if an actual 'M' \n",
    "class is predicted as 'B'. So in order to reduce this cost, we need to maximize the Recall for 'M' class.\n",
    "So we will finalize the model, which will have maximum Recall.\n"
   ]
  },
  {
   "cell_type": "markdown",
   "id": "be38725d",
   "metadata": {},
   "source": [
    "# KNN Classifier"
   ]
  },
  {
   "cell_type": "code",
   "execution_count": null,
   "id": "271a5def",
   "metadata": {},
   "outputs": [],
   "source": [
    "Now we start our classification with KNN, we will first normalize the training and validation data.\n",
    "Then we will check the F measure, recall for different values of n_neighbors from 3 to 50, based on that\n",
    "we will conclude for what value of n our model has highest Recall.\n"
   ]
  },
  {
   "cell_type": "code",
   "execution_count": 4,
   "id": "29ffa349",
   "metadata": {},
   "outputs": [
    {
     "name": "stdout",
     "output_type": "stream",
     "text": [
      "[[0.37905249 0.64273859 0.35761178 ... 0.09986221 0.         0.        ]\n",
      " [0.         0.15435685 0.         ... 0.         0.32478023 0.2543618 ]\n",
      " [0.30380046 0.44854772 0.30993021 ... 0.70651051 0.47992397 0.36639118]\n",
      " ...\n",
      " [0.63841166 0.45477178 0.62822196 ... 0.5556321  0.39320504 0.05785124]\n",
      " [0.22239576 0.26804979 0.21905881 ... 0.33809852 0.29436921 0.16528926]\n",
      " [0.43348005 0.21369295 0.41814664 ... 0.38890803 0.28819197 0.09891119]]\n",
      "455\n",
      "91\n",
      "114\n"
     ]
    }
   ],
   "source": [
    "#normalization of the data set\n",
    "min_max_scaler = preprocessing.MinMaxScaler()\n",
    "normalized_df_training_X = min_max_scaler.fit_transform(df_training_n_X)\n",
    "\n",
    "normalized_df_val_X = min_max_scaler.transform(df_validation_X)\n",
    "\n",
    "print(\"normalized training data set X\", normalized_df_training_X)\n",
    "print(df_training_X.shape[0])\n",
    "print(df_validation_X.shape[0])\n",
    "print(df_test_X.shape[0])\n",
    "\n"
   ]
  },
  {
   "cell_type": "code",
   "execution_count": 40,
   "id": "ffc0ee76",
   "metadata": {},
   "outputs": [
    {
     "name": "stdout",
     "output_type": "stream",
     "text": [
      "(47,)\n",
      "(47,)\n"
     ]
    },
    {
     "data": {
      "image/png": "[encoded data removed]",
      "text/plain": [
       "<Figure size 432x288 with 1 Axes>"
      ]
     },
     "metadata": {
      "needs_background": "light"
     },
     "output_type": "display_data"
    },
    {
     "name": "stdout",
     "output_type": "stream",
     "text": [
      "Mean Recall at validation data in KNN 0.8817966903073283\n",
      "Mean F score at Validation data in KNN 0.9291899760970034\n",
      "Mean accuracy at Validation data in KNN 0.9469254150105211\n",
      "No of neighbours for max recall score 7\n"
     ]
    }
   ],
   "source": [
    "f1_score_train_array =  np.array([])\n",
    "f1_score_val_array =  np.array([])\n",
    "\n",
    "recall_train_array =  np.array([])\n",
    "recall_val_array =  np.array([])\n",
    "\n",
    "accuracy_train_array =  np.array([])\n",
    "accuracy_val_array =  np.array([])\n",
    "\n",
    "# create the model\n",
    "# KNeighborsClassifier is implementing the k-nearest neighbors vote\n",
    "\n",
    "\n",
    "## Train the model (fit the data)\n",
    "n_range = range(3, 50)\n",
    "for n_neighbors in range(3, 50):\n",
    "    clf = neighbors.KNeighborsClassifier(n_neighbors)\n",
    "\n",
    "    clf.fit(normalized_df_training_X, df_training_n_Y)\n",
    "    z_train = clf.predict(normalized_df_training_X)\n",
    "    z_val = clf.predict(normalized_df_val_X)\n",
    "    \n",
    "    f1_score_train_array = np.append(f1_score_train_array, metrics.f1_score(df_training_n_Y, z_train, pos_label = 'M'))\n",
    "    f1_score_val_array = np.append(f1_score_val_array, metrics.f1_score(df_validation_Y, z_val, pos_label = 'M'))\n",
    "    \n",
    "    accuracy_train_array = np.append(accuracy_train_array, metrics.accuracy_score(df_training_n_Y, z_train))\n",
    "    accuracy_val_array = np.append(accuracy_val_array, metrics.accuracy_score(df_validation_Y, z_val))\n",
    "    \n",
    "    #checking recall\n",
    "    recall_train_array = np.append(recall_train_array, metrics.recall_score(df_training_n_Y, z_train, pos_label = 'M'))\n",
    "    recall_val_array = np.append(recall_val_array, metrics.recall_score(df_validation_Y, z_val, pos_label = 'M'))\n",
    "\n",
    "    \n",
    "print(f1_score_train_array.shape)\n",
    "print(f1_score_val_array.shape)\n",
    "\n",
    "plt.plot(n_range, recall_train_array, label = \"Training\")\n",
    "plt.plot(n_range, recall_val_array, label = \"Validation\")\n",
    "plt.xlabel('Value of K for KNN')\n",
    "plt.xticks(range(3, 50, 2))\n",
    "plt.ylabel('recall')\n",
    "plt.legend()\n",
    "plt.show()\n",
    "\n",
    "print(\"Mean Recall at validation data in KNN\" , recall_val_array.mean())\n",
    "print(\"Mean F score at Validation data in KNN\", f1_score_val_array.mean())\n",
    "print(\"Mean accuracy at Validation data in KNN\", accuracy_val_array.mean())\n",
    "\n",
    "n_max = np.where(recall_val_array==recall_val_array.max())[0][0] + 3\n",
    "\n",
    "print(\"No of neighbours for max recall score\", n_max)\n",
    "\n"
   ]
  },
  {
   "cell_type": "code",
   "execution_count": 26,
   "id": "2b8927d1",
   "metadata": {},
   "outputs": [
    {
     "name": "stdout",
     "output_type": "stream",
     "text": [
      "recall final from KNN 0.9444444444444444\n",
      "f score final from KNN 0.9714285714285714\n",
      "accuracy final from KNN 0.978021978021978\n",
      "Confusion Matrix [[34  2]\n",
      " [ 0 55]]\n"
     ]
    }
   ],
   "source": [
    "#Final model on training and validation for n = 7\n",
    "\n",
    "clf = neighbors.KNeighborsClassifier(n_max)\n",
    "\n",
    "clf.fit(normalized_df_training_X, df_training_n_Y)\n",
    "z_val = clf.predict(normalized_df_val_X)\n",
    "print(\"recall final from KNN\", metrics.recall_score(df_validation_Y, z_val, pos_label = 'M'))\n",
    "\n",
    "print(\"f score final from KNN\", metrics.f1_score(df_validation_Y, z_val, pos_label = 'M'))\n",
    "\n",
    "\n",
    "print(\"accuracy final from KNN\", metrics.accuracy_score(df_validation_Y, z_val))\n",
    "\n",
    "\n",
    "print(\"Confusion Matrix\", metrics.confusion_matrix(df_validation_Y, z_val, labels = ['M', 'B']))\n"
   ]
  },
  {
   "cell_type": "markdown",
   "id": "57431b24",
   "metadata": {},
   "source": [
    "# Decision Tree Classifier"
   ]
  },
  {
   "cell_type": "code",
   "execution_count": null,
   "id": "e7f5c907",
   "metadata": {},
   "outputs": [],
   "source": [
    "In Decision tree, our Hyper parameter will be max depth of the tree and we will check for \n",
    "which max depth, the tree is giving best recall, without overfitting.\n",
    "We are trying to fit the tree for depth ranging from 1 to 20"
   ]
  },
  {
   "cell_type": "code",
   "execution_count": 14,
   "id": "fbf0bb2d",
   "metadata": {},
   "outputs": [
    {
     "name": "stdout",
     "output_type": "stream",
     "text": [
      "Mean F score at validation data in Decision Tree  0.9140123034859876\n",
      "Mean accuracy at validation data in Decision Tree  0.9340659340659341\n",
      "Mean recall at validation data in Decision Tree  0.8859649122807017\n",
      "max depth of tree for max F score 2\n"
     ]
    },
    {
     "data": {
      "image/png": "[encoded data removed]",
      "text/plain": [
       "<Figure size 432x288 with 1 Axes>"
      ]
     },
     "metadata": {
      "needs_background": "light"
     },
     "output_type": "display_data"
    }
   ],
   "source": [
    "f1_decision_tree_val =  np.array([])\n",
    "f1_decision_tree_train = np.array([])\n",
    "\n",
    "accuracy_val = np.array([])\n",
    "accuracy_train = np.array([])\n",
    "\n",
    "recall_val = np.array([])\n",
    "recall_train = np.array([])\n",
    "#implementing decision tree on training and validation\n",
    "\n",
    "for depth in range(1, 20):\n",
    "    clf = tree.DecisionTreeClassifier(criterion=\"gini\", max_depth=depth, min_impurity_decrease = 0.05)\n",
    "    \n",
    "    clf.fit(df_training_n_X, df_training_n_Y)\n",
    "    \n",
    "    pred_train = clf.predict(df_training_n_X)\n",
    "    pred_val = clf.predict(df_validation_X)\n",
    "    \n",
    "    f1_decision_tree_train = np.append(f1_decision_tree_train, metrics.f1_score(df_training_n_Y, pred_train, pos_label = 'M'))\n",
    "    f1_decision_tree_val = np.append(f1_decision_tree_val, metrics.f1_score(df_validation_Y, pred_val, pos_label = 'M'))\n",
    "\n",
    "    accuracy_train = np.append(accuracy_train, metrics.accuracy_score(df_training_n_Y, pred_train))\n",
    "    accuracy_val = np.append(accuracy_val, metrics.accuracy_score(df_validation_Y, pred_val))\n",
    "    \n",
    "    recall_train = np.append(recall_train, metrics.recall_score(df_training_n_Y, pred_train, pos_label = 'M'))\n",
    "    recall_val = np.append(recall_val, metrics.recall_score(df_validation_Y, pred_val, pos_label = 'M'))\n",
    "    \n",
    "#results    \n",
    "max_depth_found = np.where(recall_val==recall_val.max())[0][0] + 1\n",
    "\n",
    "print(\"Mean F score at validation data in Decision Tree \" , f1_decision_tree_val.mean())\n",
    "print(\"Mean accuracy at validation data in Decision Tree \" , accuracy_val.mean())\n",
    "print(\"Mean recall at validation data in Decision Tree \" , recall_val.mean())\n",
    "\n",
    "print(\"max depth of tree for max F score\", max_depth_found )\n",
    "\n",
    "\n",
    "plt.plot(range(1, 20), recall_train, label = \"Training\")\n",
    "plt.plot(range(1,20), recall_val, label = \"Validation\")\n",
    "plt.xlabel('max depth of tree')\n",
    "plt.xticks(range(1, 20, 2))\n",
    "plt.ylabel('Recall')\n",
    "plt.legend()\n",
    "plt.show()"
   ]
  },
  {
   "cell_type": "code",
   "execution_count": 27,
   "id": "8f09c0ad",
   "metadata": {
    "scrolled": true
   },
   "outputs": [
    {
     "name": "stdout",
     "output_type": "stream",
     "text": [
      "Recall final from Decision tree 0.8888888888888888\n",
      "Confusion Matrix [[32  4]\n",
      " [ 2 53]]\n"
     ]
    },
    {
     "data": {
      "image/png": "[encoded data removed]",
      "text/plain": [
       "<Figure size 432x288 with 1 Axes>"
      ]
     },
     "metadata": {
      "needs_background": "light"
     },
     "output_type": "display_data"
    }
   ],
   "source": [
    "#final Decision Tree model on test and validation for depth at max recall\n",
    "\n",
    "\n",
    "clf = tree.DecisionTreeClassifier(criterion=\"gini\", max_depth = max_depth_found, min_impurity_decrease = 0.05)\n",
    "\n",
    "clf.fit(df_training_n_X, df_training_n_Y )\n",
    "tree_val_pred = clf.predict(df_validation_X)\n",
    "\n",
    "recall_score_final =  metrics.recall_score(df_validation_Y, tree_val_pred, pos_label = 'M')\n",
    "print(\"Recall final from Decision tree\", recall_score_final)\n",
    "tree.plot_tree(clf)\n",
    "print(\"Confusion Matrix\", metrics.confusion_matrix(df_validation_Y, tree_val_pred, labels = ['M', 'B']))"
   ]
  },
  {
   "cell_type": "markdown",
   "id": "e77d8723",
   "metadata": {},
   "source": [
    " # Logistic Regression\n"
   ]
  },
  {
   "cell_type": "code",
   "execution_count": null,
   "id": "cf74f7f6",
   "metadata": {},
   "outputs": [],
   "source": [
    "Here, in Logistic our hyper paramter is the type of regularization 'p(in penalty)'. So,we evaluate our model\n",
    "on Validation set for all three types of regularization.\n"
   ]
  },
  {
   "cell_type": "code",
   "execution_count": 65,
   "id": "2f04b6d6",
   "metadata": {},
   "outputs": [
    {
     "name": "stdout",
     "output_type": "stream",
     "text": [
      "Mean F score when penalty =  l1 : 0.9714285714285714\n",
      "Mean accuracy when penalty =  l1 : 0.978021978021978\n",
      "Mean recall score when penalty = l1 : 0.9444444444444444\n",
      "Mean F score when penalty =  l2 : 0.9577464788732395\n",
      "Mean accuracy when penalty =  l2 : 0.967032967032967\n",
      "Mean recall score when penalty = l2 : 0.9444444444444444\n",
      "Mean F score when penalty =  none : 0.927536231884058\n",
      "Mean accuracy when penalty =  none : 0.945054945054945\n",
      "Mean recall score when penalty = none : 0.8888888888888888\n"
     ]
    }
   ],
   "source": [
    "# logistic regression on optimal c and training and validation set\n",
    "\n",
    "\n",
    "for p in ('l1', 'l2', 'none'):\n",
    "    clf = linear_model.LogisticRegression(penalty = p , solver = 'saga', max_iter = 10000)\n",
    "    clf.fit(std_training_X, df_training_n_Y)\n",
    "    pred_val = clf.predict(std_validation_X)\n",
    "\n",
    "    print(\"Mean F score when penalty = \", p, \":\", metrics.f1_score(df_validation_Y, pred_val, pos_label = 'M'))\n",
    "    print(\"Mean accuracy when penalty = \", p, \":\", metrics.accuracy_score(df_validation_Y, pred_val))\n",
    "    print(\"Mean recall score when penalty =\", p, \":\", metrics.recall_score(df_validation_Y, pred_val, pos_label = 'M'))\n",
    "\n"
   ]
  },
  {
   "cell_type": "code",
   "execution_count": null,
   "id": "7486b977",
   "metadata": {},
   "outputs": [],
   "source": []
  },
  {
   "cell_type": "markdown",
   "id": "8a2ed952",
   "metadata": {},
   "source": [
    "# Selected Model"
   ]
  },
  {
   "cell_type": "markdown",
   "id": "ea0afaf3",
   "metadata": {},
   "source": [
    "KNN is so far the best model with highest recall and accuracy on validation set, with K being 7. So we are selecting KNN\n",
    "as the best fit model. In this step we will evaluate KNN on the testing data set"
   ]
  },
  {
   "cell_type": "code",
   "execution_count": 63,
   "id": "00347e1d",
   "metadata": {},
   "outputs": [
    {
     "name": "stdout",
     "output_type": "stream",
     "text": [
      "recall final from KNN 0.9705882352941176\n",
      "f score final from KNN 0.9565217391304348\n",
      "accuracy final from KNN 0.9736842105263158\n",
      "precision final from KNN 0.9428571428571428\n",
      "Confusion Matrix [[33  1]\n",
      " [ 2 78]]\n"
     ]
    }
   ],
   "source": [
    "#Final model on training and testing for n = 7\n",
    "\n",
    "# 1. normalize the training and testing data\n",
    "\n",
    "min_max_scaler = preprocessing.MinMaxScaler()\n",
    "normalized_df_training_X = min_max_scaler.fit_transform(df_training_n_X)\n",
    "\n",
    "normalized_df_test_X = min_max_scaler.transform(df_test_X)\n",
    "\n",
    "clf = neighbors.KNeighborsClassifier(7)\n",
    "\n",
    "clf.fit(normalized_df_training_X, df_training_n_Y)\n",
    "\n",
    "pred_test = clf.predict(normalized_df_test_X)\n",
    "\n",
    "print(\"recall final from KNN\", metrics.recall_score(df_test_Y, pred_test, pos_label = 'M'))\n",
    "\n",
    "print(\"f score final from KNN\", metrics.f1_score(df_test_Y, pred_test, pos_label = 'M'))\n",
    "\n",
    "\n",
    "print(\"accuracy final from KNN\", metrics.accuracy_score(df_test_Y, pred_test))\n",
    "\n",
    "print(\"precision final from KNN\", metrics.precision_score(df_test_Y, pred_test, pos_label = 'M'))\n",
    "\n",
    "\n",
    "print(\"Confusion Matrix\", metrics.confusion_matrix(df_test_Y, pred_test, labels = ['M', 'B']))"
   ]
  },
  {
   "cell_type": "code",
   "execution_count": null,
   "id": "9bfdc81a",
   "metadata": {},
   "outputs": [],
   "source": []
  }
 ],
 "metadata": {
  "kernelspec": {
   "display_name": "Python 3 (ipykernel)",
   "language": "python",
   "name": "python3"
  },
  "language_info": {
   "codemirror_mode": {
    "name": "ipython",
    "version": 3
   },
   "file_extension": ".py",
   "mimetype": "text/x-python",
   "name": "python",
   "nbconvert_exporter": "python",
   "pygments_lexer": "ipython3",
   "version": "3.9.7"
  }
 },
 "nbformat": 4,
 "nbformat_minor": 5
}
